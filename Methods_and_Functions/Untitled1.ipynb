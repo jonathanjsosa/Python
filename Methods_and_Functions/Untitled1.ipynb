{
 "cells": [
  {
   "cell_type": "code",
   "execution_count": 1,
   "metadata": {},
   "outputs": [
    {
     "name": "stdout",
     "output_type": "stream",
     "text": [
      "Please choose an operation to perform: add\n",
      "Please enter the first number: 3\n",
      "Please enter the second number: 4\n"
     ]
    },
    {
     "data": {
      "text/plain": [
       "7"
      ]
     },
     "execution_count": 1,
     "metadata": {},
     "output_type": "execute_result"
    }
   ],
   "source": [
    "basic_operations = {\n",
    "    'add': lambda x,y: x + y,\n",
    "    'sub': lambda x,y: x - y,\n",
    "    'mul': lambda x,y: x * y,\n",
    "    'div': lambda x,y: x / y\n",
    "}\n",
    "\n",
    "\n",
    "user_option = input('Please choose an operation to perform: ')\n",
    "first_number = int(input('Please enter the first number: '))\n",
    "second_number = int(input('Please enter the second number: '))\n",
    "\n",
    "my_func = basic_operations.get(user_option, lambda: None)\n",
    "my_func(first_number, second_number)"
   ]
  },
  {
   "cell_type": "code",
   "execution_count": 11,
   "metadata": {},
   "outputs": [
    {
     "name": "stdout",
     "output_type": "stream",
     "text": [
      "Number 7 was not found.\n"
     ]
    }
   ],
   "source": [
    "for x in range(1, 6):\n",
    "    if x == 7:\n",
    "        print(\"Number 7 found!\")\n",
    "        break\n",
    "else:\n",
    "    print(\"Number 7 was not found.\")"
   ]
  },
  {
   "cell_type": "code",
   "execution_count": 15,
   "metadata": {},
   "outputs": [
    {
     "name": "stdout",
     "output_type": "stream",
     "text": [
      "1\n",
      "2\n",
      "3\n",
      "4\n",
      "5\n",
      "Last number was 5\n",
      "Number 7 was not found.\n"
     ]
    }
   ],
   "source": [
    "for x in range(1, 6):\n",
    "    if x == 7:\n",
    "        print(\"Number 7 found!\")\n",
    "        break\n",
    "    else:\n",
    "        print(x)\n",
    "else:\n",
    "    print(f\"Last number was {x}\")\n",
    "    print(\"Number 7 was not found.\")"
   ]
  },
  {
   "cell_type": "code",
   "execution_count": 14,
   "metadata": {},
   "outputs": [
    {
     "name": "stdout",
     "output_type": "stream",
     "text": [
      "Number 7 found!\n"
     ]
    }
   ],
   "source": [
    "for x in range(1, 8):\n",
    "    if x == 7:\n",
    "        print(\"Number 7 found!\")\n",
    "        break\n",
    "else:\n",
    "    print(f\"Last number was {x}\")\n",
    "    print(\"Number 7 was not found.\")"
   ]
  },
  {
   "cell_type": "code",
   "execution_count": 10,
   "metadata": {},
   "outputs": [
    {
     "name": "stdout",
     "output_type": "stream",
     "text": [
      "2 is a prime number.\n",
      "3 is a prime number.\n",
      "4 is NOT a prime number.\n",
      "5 is a prime number.\n",
      "6 is NOT a prime number.\n",
      "7 is a prime number.\n",
      "8 is NOT a prime number.\n",
      "9 is NOT a prime number.\n"
     ]
    }
   ],
   "source": [
    "for x in range(2, 10):\n",
    "    for y in range(2, x):\n",
    "        if x % y == 0:\n",
    "            print(f\"{x} is NOT a prime number.\")\n",
    "            break\n",
    "    else:\n",
    "        print(f\"{x} is a prime number.\")"
   ]
  },
  {
   "cell_type": "code",
   "execution_count": null,
   "metadata": {},
   "outputs": [],
   "source": []
  }
 ],
 "metadata": {
  "kernelspec": {
   "display_name": "Python 3",
   "language": "python",
   "name": "python3"
  },
  "language_info": {
   "codemirror_mode": {
    "name": "ipython",
    "version": 3
   },
   "file_extension": ".py",
   "mimetype": "text/x-python",
   "name": "python",
   "nbconvert_exporter": "python",
   "pygments_lexer": "ipython3",
   "version": "3.8.3"
  }
 },
 "nbformat": 4,
 "nbformat_minor": 4
}
