{
 "cells": [
  {
   "cell_type": "markdown",
   "metadata": {},
   "source": [
    "### mode='x'."
   ]
  },
  {
   "cell_type": "code",
   "execution_count": 2,
   "metadata": {},
   "outputs": [],
   "source": [
    "with open('myfile.txt', mode='x') as myfile:\n",
    "    pass"
   ]
  },
  {
   "cell_type": "markdown",
   "metadata": {},
   "source": [
    "mode='x'is similar to mode='w' (they both create a new file in case the file doesn't exist), mode='x' will create a new file if this doesn't exist and failing if the file already exists. "
   ]
  },
  {
   "cell_type": "markdown",
   "metadata": {},
   "source": [
    "### mode='w'."
   ]
  },
  {
   "cell_type": "code",
   "execution_count": 3,
   "metadata": {},
   "outputs": [],
   "source": [
    "with open('myfile.txt', mode='w') as myfile:\n",
    "    myfile.write('Lorem ipsum dolor sit amet, consectetur adipiscing elit. Sed a dui a justo egestas venenatis nec faucibus nunc. Nunc luctus.')"
   ]
  },
  {
   "cell_type": "markdown",
   "metadata": {},
   "source": [
    "mode='w' truncate file to zero length or create text file for writing. The stream is positioned at the beginning of the file."
   ]
  },
  {
   "cell_type": "markdown",
   "metadata": {},
   "source": [
    "### mode='r'."
   ]
  },
  {
   "cell_type": "code",
   "execution_count": 4,
   "metadata": {},
   "outputs": [
    {
     "data": {
      "text/plain": [
       "'Lorem ipsum dolor sit amet, consectetur adipiscing elit. Sed a dui a justo egestas venenatis nec faucibus nunc. Nunc luctus.'"
      ]
     },
     "execution_count": 4,
     "metadata": {},
     "output_type": "execute_result"
    }
   ],
   "source": [
    "with open('myfile.txt', mode='r') as myfile:\n",
    "    content = myfile.read()\n",
    "content"
   ]
  },
  {
   "cell_type": "markdown",
   "metadata": {},
   "source": [
    "mode='r' opens text file for reading.  The stream is positioned at the beginning of the file."
   ]
  },
  {
   "cell_type": "markdown",
   "metadata": {},
   "source": [
    "##### So far we have created our file, written on and read it.\n",
    "##### What happens if we write on it again?"
   ]
  },
  {
   "cell_type": "code",
   "execution_count": 5,
   "metadata": {},
   "outputs": [],
   "source": [
    "with open('myfile.txt', mode='w') as myfile:\n",
    "    myfile.write('When something is important enough, you do it even if the odds are not in your favor.')"
   ]
  },
  {
   "cell_type": "code",
   "execution_count": 6,
   "metadata": {},
   "outputs": [
    {
     "data": {
      "text/plain": [
       "'When something is important enough, you do it even if the odds are not in your favor.'"
      ]
     },
     "execution_count": 6,
     "metadata": {},
     "output_type": "execute_result"
    }
   ],
   "source": [
    "with open('myfile.txt', mode='r') as myfile:\n",
    "    content = myfile.read()\n",
    "content"
   ]
  },
  {
   "cell_type": "markdown",
   "metadata": {},
   "source": [
    "##### mode='w' will create a file if this doesn't exist otherwise will truncate file to zero length (basically it will overwrite the text of the file)."
   ]
  },
  {
   "cell_type": "markdown",
   "metadata": {},
   "source": [
    "### mode='r+'."
   ]
  },
  {
   "cell_type": "code",
   "execution_count": 7,
   "metadata": {},
   "outputs": [
    {
     "data": {
      "text/plain": [
       "'What something is important enough, you do it even if the odds are not in your favor.'"
      ]
     },
     "execution_count": 7,
     "metadata": {},
     "output_type": "execute_result"
    }
   ],
   "source": [
    "with open('myfile.txt', mode='r+') as myfile:\n",
    "    myfile.write('What')\n",
    "    myfile.seek(0)\n",
    "    content = myfile.read()\n",
    "content"
   ]
  },
  {
   "cell_type": "code",
   "execution_count": 8,
   "metadata": {},
   "outputs": [
    {
     "name": "stdout",
     "output_type": "stream",
     "text": [
      "What something is important enough, you do it even if the odds are not in your favor.\n",
      "omething is important enough, you do it even if the odds are not in your favor.\n",
      "Pythonomething is important enough, you do it even if the odds are not in your favor.\n"
     ]
    }
   ],
   "source": [
    "with open('myfile.txt', mode='r+') as myfile:\n",
    "    content_before = myfile.read()\n",
    "    myfile.seek(0)\n",
    "    myfile.write('Python')\n",
    "    content = myfile.read()\n",
    "    myfile.seek(0)\n",
    "    content_after = myfile.read()\n",
    "print(content_before)\n",
    "print(content)\n",
    "print(content_after)"
   ]
  },
  {
   "cell_type": "markdown",
   "metadata": {},
   "source": [
    "mode='r+' Open for reading and writing. The stream is positioned at the beginning of the file."
   ]
  },
  {
   "cell_type": "markdown",
   "metadata": {},
   "source": [
    "##### We can see that we can read/write with mode='r', the way it reads is the same as mode='r', but the way it writes is different, it reads the file and the stream is positioned at the beginning of the file and then it begins to overwrite according to the length of the word that we pass (leaving the rest of the original content)."
   ]
  },
  {
   "cell_type": "markdown",
   "metadata": {},
   "source": [
    "### mode='w+'."
   ]
  },
  {
   "cell_type": "code",
   "execution_count": 9,
   "metadata": {},
   "outputs": [
    {
     "data": {
      "text/plain": [
       "'The file was truncated.'"
      ]
     },
     "execution_count": 9,
     "metadata": {},
     "output_type": "execute_result"
    }
   ],
   "source": [
    "with open('myfile.txt', mode='w+') as myfile:\n",
    "    myfile.write('The file was truncated.')\n",
    "    myfile.seek(0)\n",
    "    content = myfile.read()\n",
    "content"
   ]
  },
  {
   "cell_type": "markdown",
   "metadata": {},
   "source": [
    "mode='w+' Open for reading and writing. The file is created if it does not exist, otherwise it is truncated (overwrite from the beginning). The stream is positioned at the beginning of the file."
   ]
  },
  {
   "cell_type": "markdown",
   "metadata": {},
   "source": [
    "### mode='a'."
   ]
  },
  {
   "cell_type": "code",
   "execution_count": 10,
   "metadata": {},
   "outputs": [],
   "source": [
    "with open('myfile.txt', mode='a') as myfile:\n",
    "    myfile.write(\" Text appended with mode='a'\")"
   ]
  },
  {
   "cell_type": "code",
   "execution_count": 11,
   "metadata": {},
   "outputs": [
    {
     "data": {
      "text/plain": [
       "\"The file was truncated. Text appended with mode='a'\""
      ]
     },
     "execution_count": 11,
     "metadata": {},
     "output_type": "execute_result"
    }
   ],
   "source": [
    "with open('myfile.txt', mode='r') as myfile:\n",
    "    content = myfile.read()\n",
    "content"
   ]
  },
  {
   "cell_type": "markdown",
   "metadata": {},
   "source": [
    "mode='a' open for writing, appending to the end of the file if it exists. The file is created if it doesn't exist. The stream is positioned at the end of the file. Subsequent writes to the file will always end up at the then current end of file, irrespective of any intervening .seek() or similar."
   ]
  },
  {
   "cell_type": "markdown",
   "metadata": {},
   "source": [
    "### mode='a+'."
   ]
  },
  {
   "cell_type": "code",
   "execution_count": 12,
   "metadata": {},
   "outputs": [
    {
     "name": "stdout",
     "output_type": "stream",
     "text": [
      "The file was truncated. Text appended with mode='a'. Text appended with mode='a+'\n"
     ]
    }
   ],
   "source": [
    "with open('myfile.txt', mode='a+') as myfile:\n",
    "    myfile.write(\". Text appended with mode='a+'\")\n",
    "    myfile.seek(0)\n",
    "    content = myfile.read()\n",
    "print(content)"
   ]
  },
  {
   "cell_type": "markdown",
   "metadata": {},
   "source": [
    "mode='a+' The file is created if it doesn't exist. The stream is positioned at the end of the file, then current end of file, irrespective of any intervening .seek() or similar."
   ]
  }
 ],
 "metadata": {
  "kernelspec": {
   "display_name": "Python 3",
   "language": "python",
   "name": "python3"
  },
  "language_info": {
   "codemirror_mode": {
    "name": "ipython",
    "version": 3
   },
   "file_extension": ".py",
   "mimetype": "text/x-python",
   "name": "python",
   "nbconvert_exporter": "python",
   "pygments_lexer": "ipython3",
   "version": "3.8.3"
  }
 },
 "nbformat": 4,
 "nbformat_minor": 4
}
