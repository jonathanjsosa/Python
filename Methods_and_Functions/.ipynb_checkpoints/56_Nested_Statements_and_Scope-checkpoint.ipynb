{
 "cells": [
  {
   "cell_type": "code",
   "execution_count": 1,
   "metadata": {},
   "outputs": [],
   "source": [
    "x = 25\n",
    "\n",
    "def printer():\n",
    "    x = 50\n",
    "    return x"
   ]
  },
  {
   "cell_type": "code",
   "execution_count": 3,
   "metadata": {},
   "outputs": [
    {
     "name": "stdout",
     "output_type": "stream",
     "text": [
      "25\n"
     ]
    }
   ],
   "source": [
    "print(x)"
   ]
  },
  {
   "cell_type": "code",
   "execution_count": 5,
   "metadata": {},
   "outputs": [
    {
     "name": "stdout",
     "output_type": "stream",
     "text": [
      "50\n"
     ]
    }
   ],
   "source": [
    "print(printer())"
   ]
  },
  {
   "cell_type": "markdown",
   "metadata": {},
   "source": [
    "This is the order that Python is going to look for variables.\n",
    "\n",
    "## LEGB Rule\n",
    "- L:Local --- Names assigned in any way within a function (def or lambda), and not declared global in that function.\n",
    "- E: Enclosing function locals --- Names in the local scope of any and all enclosing functions (def or lambda), from inner to outer.\n",
    "- G: Global (module) --- Names assigned at the top-level of a module file, or declared global in a def within the file.\n",
    "- B:Built-in (Python) --- Names preassigned in the built-in names module: open, range, SyntaxError    "
   ]
  },
  {
   "cell_type": "markdown",
   "metadata": {},
   "source": [
    "When you create a variable name in Python that name is stored in what's called the namespace and variable names also have a scope and the scope determines the visibility of that variable name to other parts of your code."
   ]
  },
  {
   "cell_type": "code",
   "execution_count": 6,
   "metadata": {},
   "outputs": [],
   "source": [
    "x = 25\n",
    "\n",
    "def printer():\n",
    "    x = 50\n",
    "    return x"
   ]
  },
  {
   "cell_type": "code",
   "execution_count": 7,
   "metadata": {},
   "outputs": [
    {
     "name": "stdout",
     "output_type": "stream",
     "text": [
      "25\n"
     ]
    }
   ],
   "source": [
    "print(x)"
   ]
  },
  {
   "cell_type": "code",
   "execution_count": 8,
   "metadata": {},
   "outputs": [
    {
     "name": "stdout",
     "output_type": "stream",
     "text": [
      "50\n"
     ]
    }
   ],
   "source": [
    "print(printer())"
   ]
  },
  {
   "cell_type": "markdown",
   "metadata": {},
   "source": [
    "## Local variable"
   ]
  },
  {
   "cell_type": "code",
   "execution_count": null,
   "metadata": {},
   "outputs": [],
   "source": [
    "# Something like inside a the function.\n",
    "lambda num = num ** 2  #num is local to the lambda expression"
   ]
  },
  {
   "cell_type": "markdown",
   "metadata": {},
   "source": [
    "## Enclosing Local variable"
   ]
  },
  {
   "cell_type": "code",
   "execution_count": 14,
   "metadata": {},
   "outputs": [
    {
     "name": "stdout",
     "output_type": "stream",
     "text": [
      "Hello Sammy\n"
     ]
    }
   ],
   "source": [
    "name = 'THIS IS A GLOBAL STRING'\n",
    "\n",
    "def greet():\n",
    "    name = 'Sammy'\n",
    "    \n",
    "    \n",
    "    def hello():\n",
    "        print('Hello '+ name)\n",
    "    \n",
    "    hello()\n",
    "    \n",
    "greet()"
   ]
  },
  {
   "cell_type": "markdown",
   "metadata": {},
   "source": [
    "When we execute greet() what happens is:\n",
    "    - I'm calling and executing the function.\n",
    "    - It assigns name = 'Sammy'\n",
    "    - It defines the function hello()\n",
    "    - And then it calls the function hello\n",
    "    \n",
    "    \n",
    "So when you call greet() internally it's going to created this variable name (name='Sammy'), it's defining the function hello() and it's calling the function hello.\n",
    "\n",
    "This is going to follow the LEGB rule when we want to figure out what name are you referring to.\n",
    "\n",
    "\n",
    "So, first off WE LOOK IN THE LOCAL NAMESPACE.So the local namespace as we just discussed is within a function. So here in the def hello() function it's going to say \"Hey, did I define \"name\" anywhere?\" I it can't find it then it goes to the next level.\n",
    "So after searching in local, we go to ENCLOSING FUNCTION LOCALS, so we have this enclosing function (def greet()) because def hello() function is inside o the def greet() function. And then here we do find that 'name' has been defined. It's equal to Sammy, so that's the one we choose when we finally execute hello() here and that's why we see 'Hello Sammy'.\n"
   ]
  },
  {
   "cell_type": "markdown",
   "metadata": {},
   "source": [
    "#### now"
   ]
  },
  {
   "cell_type": "markdown",
   "metadata": {},
   "source": [
    "Now let's see what happens if we were to comment name='Sammy' and if we run this again."
   ]
  },
  {
   "cell_type": "code",
   "execution_count": 15,
   "metadata": {},
   "outputs": [
    {
     "name": "stdout",
     "output_type": "stream",
     "text": [
      "Hello THIS IS A GLOBAL STRING\n"
     ]
    }
   ],
   "source": [
    "name = 'THIS IS A GLOBAL STRING'\n",
    "\n",
    "def greet():\n",
    "    # name = 'Sammy'\n",
    "    \n",
    "    \n",
    "    def hello():\n",
    "        print('Hello '+ name)\n",
    "    \n",
    "    hello()\n",
    "    \n",
    "greet()"
   ]
  },
  {
   "cell_type": "markdown",
   "metadata": {},
   "source": [
    "Now we see the global string.\n",
    "\n",
    "So what's happening now?\n",
    "\n",
    "Well we're going through the same rules:\n",
    "\n",
    "    -We first look at local: So when we execute hello() there, this def hello() function says 'Well I've got to figure out what variable name is (in the print statement). I don't see it defined locally (inside def hello()). \n",
    "    \n",
    "    -And now since name='Sammy' is commented, I don't see it defined in the enclosing function.\n",
    "    \n",
    "    -So then I'm going to go to the next step which is to look globally and there the name variable is, in the global level (global is defined by basically having no indentation) AND because it found that in the global namespace it now says 'Hello THIS IS A GLOBAL STRING'."
   ]
  },
  {
   "cell_type": "code",
   "execution_count": 16,
   "metadata": {},
   "outputs": [
    {
     "name": "stdout",
     "output_type": "stream",
     "text": [
      "Hello I'M A LOCAL\n"
     ]
    }
   ],
   "source": [
    "# GLOBAL\n",
    "name = 'THIS IS A GLOBAL STRING'\n",
    "\n",
    "def greet():\n",
    "    # ENCLOSING\n",
    "    name = 'Sammy'\n",
    "    \n",
    "    \n",
    "    def hello():\n",
    "        #LOCAL\n",
    "        name = \"I'M A LOCAL\"\n",
    "        print('Hello '+ name)\n",
    "    \n",
    "    hello()\n",
    "    \n",
    "greet()"
   ]
  },
  {
   "cell_type": "markdown",
   "metadata": {},
   "source": [
    "It gets back \"Hello I'M A LOCAL\" because when we execute hello() that executes the def hello() function right there which says \"Hey Python to figure out what is this name variable assigned to\" (name in the print statement). And it immediately finds in the local namespace right there (name = \"I'M A LOCAL\"). So that's what it uses."
   ]
  },
  {
   "cell_type": "markdown",
   "metadata": {},
   "source": [
    "."
   ]
  },
  {
   "cell_type": "markdown",
   "metadata": {},
   "source": [
    "."
   ]
  },
  {
   "cell_type": "markdown",
   "metadata": {},
   "source": [
    "."
   ]
  },
  {
   "cell_type": "markdown",
   "metadata": {},
   "source": [
    "The only level above GLOBAL is the BUILT-IN function level which would be something like a built-in function as len().\n",
    "So you should always be careful not to overwrite these BUILT-IN function names and they're always indicated to you with syntax highlighting.\n",
    "And if you're not sure if you're able to, call help() on it [help(len)] and you see some stuff pop out, then it's definitely BUILT-IN because it already has that information."
   ]
  },
  {
   "cell_type": "markdown",
   "metadata": {},
   "source": [
    "."
   ]
  },
  {
   "cell_type": "markdown",
   "metadata": {},
   "source": [
    "."
   ]
  },
  {
   "cell_type": "markdown",
   "metadata": {},
   "source": [
    "."
   ]
  },
  {
   "cell_type": "markdown",
   "metadata": {},
   "source": [
    "##### Finally to close off this discussion we're going to do is look back at our original thought experiment."
   ]
  },
  {
   "cell_type": "code",
   "execution_count": 18,
   "metadata": {},
   "outputs": [],
   "source": [
    "x = 25\n",
    "\n",
    "def printer():\n",
    "    x = 50\n",
    "    return x"
   ]
  },
  {
   "cell_type": "markdown",
   "metadata": {},
   "source": [
    "This assignment of x=25 at the global level, re-assignment at the local level returning the local assign, but still being able to print out when we wanted to, we could print out the global one (print(x)) or we could return that local one and print as well (print(printer()).\n",
    "\n",
    "\n",
    "SO WE'RE GOING TO DISCUSS LOCAL VARIABLES AS WELL AS THE GLOBAL KEYWORD."
   ]
  },
  {
   "cell_type": "markdown",
   "metadata": {},
   "source": [
    "So we are going to show you an example of that thought experiment again, will say:"
   ]
  },
  {
   "cell_type": "code",
   "execution_count": 21,
   "metadata": {},
   "outputs": [],
   "source": [
    "x = 50\n",
    "\n",
    "def func(x):\n",
    "    print(f\"X is {x}\")"
   ]
  },
  {
   "cell_type": "code",
   "execution_count": 23,
   "metadata": {},
   "outputs": [
    {
     "name": "stdout",
     "output_type": "stream",
     "text": [
      "X is 50\n"
     ]
    }
   ],
   "source": [
    "func(x)"
   ]
  },
  {
   "cell_type": "code",
   "execution_count": 24,
   "metadata": {},
   "outputs": [],
   "source": [
    "x = 50\n",
    "\n",
    "def func(x):\n",
    "    print(f\"X is {x}\")\n",
    "    \n",
    "    # LOCAL REASSIGNMENT\n",
    "    x = 200\n",
    "    print(f\"I JUST LOCALLY CHANGED X TO {x}\")"
   ]
  },
  {
   "cell_type": "code",
   "execution_count": 25,
   "metadata": {},
   "outputs": [
    {
     "name": "stdout",
     "output_type": "stream",
     "text": [
      "X is 50\n",
      "I JUST LOCALLY CHANGED X TO 200\n"
     ]
    }
   ],
   "source": [
    "func(x)"
   ]
  },
  {
   "cell_type": "code",
   "execution_count": 26,
   "metadata": {},
   "outputs": [
    {
     "name": "stdout",
     "output_type": "stream",
     "text": [
      "50\n"
     ]
    }
   ],
   "source": [
    "# What happens if we print just x\n",
    "print(x)"
   ]
  },
  {
   "cell_type": "markdown",
   "metadata": {},
   "source": [
    "Even though inside of the def func() function we reassigned x to be 200.\n",
    "\n",
    "And this is because that reassignment is only happening in the local space inside the def func(x) function. \n",
    "IT'S NOT GOING TO AFFECT ANYTHING AT A HIGHER SCOPE. So this is what scope really is.\n",
    "\n",
    "It's the fact that when you declare variables inside of a function definition such as what we've done (def func(x)) in the last example, THOSE VARIABLES NAMES ONLY HAVE A SCOPE LOCAL TO THIS FUNCTION.\n",
    "\n",
    "So that's scope of this variable x (x=200) right there that we assigned it, when we assigned it inside of this function (def func(x)).\n",
    "\n",
    "\n",
    "We have an x (x=50) there floating around in the global space, but that local reassignment scope (x=200) won't be able to extend outside to another level which is why after all we're still able to print out x=50"
   ]
  }
 ],
 "metadata": {
  "kernelspec": {
   "display_name": "Python 3",
   "language": "python",
   "name": "python3"
  },
  "language_info": {
   "codemirror_mode": {
    "name": "ipython",
    "version": 3
   },
   "file_extension": ".py",
   "mimetype": "text/x-python",
   "name": "python",
   "nbconvert_exporter": "python",
   "pygments_lexer": "ipython3",
   "version": "3.8.3"
  }
 },
 "nbformat": 4,
 "nbformat_minor": 4
}
